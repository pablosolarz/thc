{
 "cells": [
  {
   "cell_type": "markdown",
   "id": "8e574b7c",
   "metadata": {},
   "source": [
    "### En Argentina, para poder acceder a una jubilacion, los principales requisitos son:  Tener una edad de 60 años en el caso de mujeres, 65 en el caso de los varones\n",
    "### Los cambios introducidos por la ley 27426 permiten que ambos puedan optar por seguir trabajando hasta los 70 años.\n",
    "### Determinar, basado en edad y sexo, quienes: pueden, deben o no pueden jubilarse\n",
    "\n",
    "Nota: Hay muchas consideraciones especiales como leyes provinciales, discapacidad, tipos de labor desarrolladas\n",
    "    que modifican ese enunciado general, pero no vamos a considerarlas en este problema"
   ]
  },
  {
   "cell_type": "code",
   "execution_count": 16,
   "id": "6d206dab",
   "metadata": {},
   "outputs": [],
   "source": [
    "sexo = 'Masculino'\n",
    "edad = 64\n",
    "situacion = 'No puede jubilarse'"
   ]
  },
  {
   "cell_type": "code",
   "execution_count": 17,
   "id": "e082b1ae",
   "metadata": {},
   "outputs": [
    {
     "name": "stdout",
     "output_type": "stream",
     "text": [
      "No puede jubilarse\n"
     ]
    }
   ],
   "source": [
    "if edad < 60:   #independientemente del sexo de la persona\n",
    "    situacion = 'No puede jubilarse'\n",
    "elif edad >= 60 and edad <70:\n",
    "    if sexo == 'Femenino' or edad > 65:\n",
    "        situacion = 'Puede jubilarse'\n",
    "else:\n",
    "    situacion = 'Debe jubilarse'    \n",
    "print(situacion)"
   ]
  },
  {
   "cell_type": "code",
   "execution_count": null,
   "id": "d9aa8f47",
   "metadata": {},
   "outputs": [],
   "source": []
  }
 ],
 "metadata": {
  "kernelspec": {
   "display_name": "Python 3 (ipykernel)",
   "language": "python",
   "name": "python3"
  },
  "language_info": {
   "codemirror_mode": {
    "name": "ipython",
    "version": 3
   },
   "file_extension": ".py",
   "mimetype": "text/x-python",
   "name": "python",
   "nbconvert_exporter": "python",
   "pygments_lexer": "ipython3",
   "version": "3.9.7"
  }
 },
 "nbformat": 4,
 "nbformat_minor": 5
}
