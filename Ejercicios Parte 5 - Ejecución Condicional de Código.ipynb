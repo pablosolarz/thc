{
 "cells": [
  {
   "cell_type": "markdown",
   "id": "8e574b7c",
   "metadata": {},
   "source": [
    "### En Argentina, para poder acceder a una jubilacion, los principales requisitos son:  Tener una edad de 60 años en el caso de mujeres, 65 en el caso de los varones\n",
    "### Los cambios introducidos por la ley 27426 permiten que ambos puedan optar por seguir trabajando hasta los 70 años.\n",
    "### Determinar, basado en edad y sexo, quienes: pueden, deben o no pueden jubilarse\n",
    "\n",
    "Nota: Hay muchas consideraciones especiales como leyes provinciales, discapacidad, tipos de labor desarrolladas\n",
    "    que modifican ese enunciado general, pero no vamos a considerarlas en este problema"
   ]
  },
  {
   "cell_type": "code",
   "execution_count": null,
   "id": "6d206dab",
   "metadata": {},
   "outputs": [],
   "source": []
  }
 ],
 "metadata": {
  "kernelspec": {
   "display_name": "Python 3 (ipykernel)",
   "language": "python",
   "name": "python3"
  },
  "language_info": {
   "codemirror_mode": {
    "name": "ipython",
    "version": 3
   },
   "file_extension": ".py",
   "mimetype": "text/x-python",
   "name": "python",
   "nbconvert_exporter": "python",
   "pygments_lexer": "ipython3",
   "version": "3.9.7"
  }
 },
 "nbformat": 4,
 "nbformat_minor": 5
}
